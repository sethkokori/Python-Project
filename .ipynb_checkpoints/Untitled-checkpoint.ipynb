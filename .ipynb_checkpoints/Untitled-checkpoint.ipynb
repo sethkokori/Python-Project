{
 "cells": [
  {
   "cell_type": "code",
   "execution_count": 1,
   "id": "8f819bc1-907c-447b-a9b6-f22979988d26",
   "metadata": {},
   "outputs": [],
   "source": [
    "import pandas as pd"
   ]
  },
  {
   "cell_type": "code",
   "execution_count": 3,
   "id": "737899e1-9baa-4a85-880a-13f9ebaba4ce",
   "metadata": {},
   "outputs": [],
   "source": [
    "df = pd.read_csv(r'C:\\Users\\USER\\Desktop\\python\\Sales_Product_Details.csv')"
   ]
  },
  {
   "cell_type": "code",
   "execution_count": 4,
   "id": "69e169fb-7038-4806-aeb3-d3f4b21d761f",
   "metadata": {},
   "outputs": [
    {
     "data": {
      "text/html": [
       "<div>\n",
       "<style scoped>\n",
       "    .dataframe tbody tr th:only-of-type {\n",
       "        vertical-align: middle;\n",
       "    }\n",
       "\n",
       "    .dataframe tbody tr th {\n",
       "        vertical-align: top;\n",
       "    }\n",
       "\n",
       "    .dataframe thead th {\n",
       "        text-align: right;\n",
       "    }\n",
       "</style>\n",
       "<table border=\"1\" class=\"dataframe\">\n",
       "  <thead>\n",
       "    <tr style=\"text-align: right;\">\n",
       "      <th></th>\n",
       "      <th>Date</th>\n",
       "      <th>Customer_ID</th>\n",
       "      <th>Product_ID</th>\n",
       "      <th>Quantity</th>\n",
       "      <th>Unit_Price</th>\n",
       "      <th>Sales_Revenue</th>\n",
       "      <th>Product_Description</th>\n",
       "      <th>Product_Category</th>\n",
       "      <th>Product_Line</th>\n",
       "      <th>Raw_Material</th>\n",
       "      <th>Region</th>\n",
       "      <th>Latitude</th>\n",
       "      <th>Longitude</th>\n",
       "    </tr>\n",
       "  </thead>\n",
       "  <tbody>\n",
       "    <tr>\n",
       "      <th>0</th>\n",
       "      <td>20210601</td>\n",
       "      <td>98</td>\n",
       "      <td>321</td>\n",
       "      <td>1</td>\n",
       "      <td>117.306016</td>\n",
       "      <td>117.306016</td>\n",
       "      <td>Cycling Jerseys</td>\n",
       "      <td>Sports</td>\n",
       "      <td>Tops</td>\n",
       "      <td>Fabrics</td>\n",
       "      <td>York</td>\n",
       "      <td>53.958332</td>\n",
       "      <td>-1.080278</td>\n",
       "    </tr>\n",
       "    <tr>\n",
       "      <th>1</th>\n",
       "      <td>20210602</td>\n",
       "      <td>92</td>\n",
       "      <td>261</td>\n",
       "      <td>4</td>\n",
       "      <td>32.272403</td>\n",
       "      <td>129.089613</td>\n",
       "      <td>Casual Shirts</td>\n",
       "      <td>Menswear</td>\n",
       "      <td>Tops</td>\n",
       "      <td>Cotton</td>\n",
       "      <td>Worcester</td>\n",
       "      <td>52.192001</td>\n",
       "      <td>-2.220000</td>\n",
       "    </tr>\n",
       "    <tr>\n",
       "      <th>2</th>\n",
       "      <td>20210603</td>\n",
       "      <td>92</td>\n",
       "      <td>264</td>\n",
       "      <td>1</td>\n",
       "      <td>36.193364</td>\n",
       "      <td>36.193364</td>\n",
       "      <td>Casual Shirts</td>\n",
       "      <td>Menswear</td>\n",
       "      <td>Tops</td>\n",
       "      <td>Cotton</td>\n",
       "      <td>Worcester</td>\n",
       "      <td>52.192001</td>\n",
       "      <td>-2.220000</td>\n",
       "    </tr>\n",
       "  </tbody>\n",
       "</table>\n",
       "</div>"
      ],
      "text/plain": [
       "       Date  Customer_ID  Product_ID  Quantity  Unit_Price  Sales_Revenue  \\\n",
       "0  20210601           98         321         1  117.306016     117.306016   \n",
       "1  20210602           92         261         4   32.272403     129.089613   \n",
       "2  20210603           92         264         1   36.193364      36.193364   \n",
       "\n",
       "  Product_Description Product_Category Product_Line Raw_Material     Region  \\\n",
       "0     Cycling Jerseys           Sports         Tops      Fabrics       York   \n",
       "1       Casual Shirts         Menswear         Tops       Cotton  Worcester   \n",
       "2       Casual Shirts         Menswear         Tops       Cotton  Worcester   \n",
       "\n",
       "    Latitude  Longitude  \n",
       "0  53.958332  -1.080278  \n",
       "1  52.192001  -2.220000  \n",
       "2  52.192001  -2.220000  "
      ]
     },
     "execution_count": 4,
     "metadata": {},
     "output_type": "execute_result"
    }
   ],
   "source": [
    "df.head(3)"
   ]
  },
  {
   "cell_type": "code",
   "execution_count": null,
   "id": "7945c12c-b29b-411a-8285-f3ac9407497f",
   "metadata": {},
   "outputs": [],
   "source": []
  }
 ],
 "metadata": {
  "kernelspec": {
   "display_name": "Python 3 (ipykernel)",
   "language": "python",
   "name": "python3"
  },
  "language_info": {
   "codemirror_mode": {
    "name": "ipython",
    "version": 3
   },
   "file_extension": ".py",
   "mimetype": "text/x-python",
   "name": "python",
   "nbconvert_exporter": "python",
   "pygments_lexer": "ipython3",
   "version": "3.11.4"
  }
 },
 "nbformat": 4,
 "nbformat_minor": 5
}
