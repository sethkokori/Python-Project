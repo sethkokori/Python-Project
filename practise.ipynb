{
 "cells": [
  {
   "cell_type": "code",
   "execution_count": null,
   "id": "4f1361b4-9b88-44b5-a1e2-ab5f37a1da7d",
   "metadata": {},
   "outputs": [],
   "source": [
    "thisdict = { \n",
    "    'brand': 'Ford',\n",
    "    'model': 'Mustang',\n",
    "    'year': 1967\n",
    "}\n",
    "\n",
    "thisdict['color'] = 'red'\n",
    "\n",
    "x = thisdict.values()\n",
    "\n",
    "print(thisdict.items())\n",
    "print(x)\n",
    "\n"
   ]
  },
  {
   "cell_type": "code",
   "execution_count": null,
   "id": "f593a8ea-1d12-406e-8592-42d23157f203",
   "metadata": {},
   "outputs": [],
   "source": [
    "myfamily = {\n",
    "    'child1' : {\n",
    "        'name' : 'Sophia',\n",
    "        'year' : 2023\n",
    "    },\n",
    "\n",
    "    'child2' : {\n",
    "        'name' : 'Oghenefejiro',\n",
    "        'year' : 2024\n",
    "    }\n",
    "}\n",
    "\n",
    "print(myfamily)"
   ]
  },
  {
   "cell_type": "code",
   "execution_count": null,
   "id": "7f708480-8a3f-4fd9-ac81-e79906fecfba",
   "metadata": {},
   "outputs": [],
   "source": [
    "child1 = {\n",
    "    'name' : 'Tobias',\n",
    "    'year' : 2030\n",
    "}\n",
    "\n",
    "child2 = {\n",
    "    'name' : 'Omawunmi',\n",
    "    'year' : 2002\n",
    "}\n",
    "\n",
    "myfamily = {\n",
    "    'child1' : child1,\n",
    "    'child2' : child2\n",
    "}\n",
    "\n",
    "print(myfamily['child1']['name'])\n",
    "\n"
   ]
  },
  {
   "cell_type": "code",
   "execution_count": null,
   "id": "e333a36c-fe55-46df-870d-63aaa945f0bd",
   "metadata": {},
   "outputs": [],
   "source": [
    "import pandas as pd\n",
    "import matplotlib.pyplot as plt\n",
    "import numpy as np"
   ]
  },
  {
   "cell_type": "code",
   "execution_count": 4,
   "id": "a943b14a-b4fa-4097-b889-2040a361abca",
   "metadata": {},
   "outputs": [
    {
     "ename": "NameError",
     "evalue": "name 'pd' is not defined",
     "output_type": "error",
     "traceback": [
      "\u001b[1;31m---------------------------------------------------------------------------\u001b[0m",
      "\u001b[1;31mNameError\u001b[0m                                 Traceback (most recent call last)",
      "Cell \u001b[1;32mIn[4], line 1\u001b[0m\n\u001b[1;32m----> 1\u001b[0m retail \u001b[38;5;241m=\u001b[39m \u001b[43mpd\u001b[49m\u001b[38;5;241m.\u001b[39mread_csv(\u001b[38;5;124m'\u001b[39m\u001b[38;5;124mSales_Product_Details.csv\u001b[39m\u001b[38;5;124m'\u001b[39m)\n\u001b[0;32m      2\u001b[0m retail\u001b[38;5;241m.\u001b[39mdrop([\u001b[38;5;124m'\u001b[39m\u001b[38;5;124mLatitude\u001b[39m\u001b[38;5;124m'\u001b[39m, \u001b[38;5;124m'\u001b[39m\u001b[38;5;124mLongitude\u001b[39m\u001b[38;5;124m'\u001b[39m], axis\u001b[38;5;241m=\u001b[39m\u001b[38;5;241m1\u001b[39m, inplace\u001b[38;5;241m=\u001b[39m\u001b[38;5;28;01mTrue\u001b[39;00m)\n\u001b[0;32m      3\u001b[0m retail\u001b[38;5;241m.\u001b[39mhead(\u001b[38;5;241m5\u001b[39m)\n",
      "\u001b[1;31mNameError\u001b[0m: name 'pd' is not defined"
     ]
    }
   ],
   "source": [
    "retail = pd.read_csv('Sales_Product_Details.csv')\n",
    "retail.drop(['Latitude', 'Longitude'], axis=1, inplace=True)\n",
    "retail.head(5)"
   ]
  },
  {
   "cell_type": "code",
   "execution_count": null,
   "id": "fd283d2d-80a5-4862-8cae-a00adc67ec0a",
   "metadata": {},
   "outputs": [],
   "source": [
    "retail[['Quantity', 'Unit_Price', 'Sales_Revenue']].describe()\n"
   ]
  },
  {
   "cell_type": "code",
   "execution_count": null,
   "id": "9888923e-c6db-4c5f-8ae8-a182b586d4f8",
   "metadata": {},
   "outputs": [],
   "source": [
    "retail.dtypes"
   ]
  },
  {
   "cell_type": "code",
   "execution_count": null,
   "id": "5f65a206-a278-40fd-8a3d-bad45063d38e",
   "metadata": {},
   "outputs": [],
   "source": [
    "retail.info()"
   ]
  },
  {
   "cell_type": "code",
   "execution_count": null,
   "id": "d4cbdd50-269a-4645-867c-9cbf22cd225e",
   "metadata": {},
   "outputs": [],
   "source": [
    "retail.head(3)"
   ]
  },
  {
   "cell_type": "code",
   "execution_count": null,
   "id": "3c9ca4b1-a236-4ba3-92b4-69c084c9350e",
   "metadata": {},
   "outputs": [],
   "source": [
    "retail['Product_Description'].shape"
   ]
  },
  {
   "cell_type": "code",
   "execution_count": null,
   "id": "11559bce-ba10-497c-8aa2-bf7c0f2c4ffe",
   "metadata": {},
   "outputs": [],
   "source": [
    "retail[['Date', 'Sales_Revenue']].shape"
   ]
  },
  {
   "cell_type": "code",
   "execution_count": null,
   "id": "4327fcd7-8dc4-4790-aa5e-7f701fd3c023",
   "metadata": {},
   "outputs": [],
   "source": [
    "customer_ID_98 = retail[retail['Customer_ID'] == 98]\n",
    "customer_ID_98"
   ]
  },
  {
   "cell_type": "code",
   "execution_count": null,
   "id": "df6fe07b-cc17-4be4-b72b-ba3bb4598543",
   "metadata": {},
   "outputs": [],
   "source": [
    "retail[retail['Product_Category'].isin(['Sports', 'Womenswear'])]\n",
    "retail.head(5)"
   ]
  },
  {
   "cell_type": "code",
   "execution_count": null,
   "id": "18b75530-4d53-4e68-9062-51a65ec4a5bb",
   "metadata": {},
   "outputs": [],
   "source": [
    "seth_store = retail[(retail['Unit_Price']>= 100) | (retail['Product_Category'].isin(['Menswear', 'Womenswear']))]\n",
    "seth_store.head(5)"
   ]
  },
  {
   "cell_type": "code",
   "execution_count": null,
   "id": "c4d4d7ae-88a3-4df6-bbf3-eee5c4487581",
   "metadata": {},
   "outputs": [],
   "source": [
    "retail.shape"
   ]
  },
  {
   "cell_type": "code",
   "execution_count": null,
   "id": "00f4908c-7b79-4d0a-9ede-518762977ef6",
   "metadata": {},
   "outputs": [],
   "source": [
    "retail[retail['Sales_Revenue'].notna()]\n",
    "retail.head(3)"
   ]
  },
  {
   "cell_type": "code",
   "execution_count": null,
   "id": "837d6ab6-8d18-4136-869f-b993b24644f1",
   "metadata": {},
   "outputs": [],
   "source": [
    "retailer = retail.loc[(retail['Product_Category']== 'Sports') | (retail['Raw_Material']== 'Fabrics'), ['Region', 'Raw_Material', 'Unit_Price', \n",
    "                                                                                                       'Product_Category']]"
   ]
  },
  {
   "cell_type": "code",
   "execution_count": null,
   "id": "66d0d52e-f6aa-48f9-a63a-28214988b138",
   "metadata": {},
   "outputs": [],
   "source": [
    "retailer"
   ]
  },
  {
   "cell_type": "code",
   "execution_count": null,
   "id": "2eea1052-3b16-49ce-bb03-c7ccf016ebd3",
   "metadata": {},
   "outputs": [],
   "source": [
    "retail.iloc[1:8, 1:8]"
   ]
  },
  {
   "cell_type": "code",
   "execution_count": null,
   "id": "9386a3bf-272e-402b-a388-dd295b3978f7",
   "metadata": {},
   "outputs": [],
   "source": [
    "\n",
    "retail.head(4)"
   ]
  },
  {
   "cell_type": "code",
   "execution_count": null,
   "id": "9cfbeaf9-cf14-4794-bb18-6d6d737ef576",
   "metadata": {},
   "outputs": [],
   "source": [
    "retail.head(3)"
   ]
  },
  {
   "cell_type": "code",
   "execution_count": null,
   "id": "972d67ed-1634-4b90-8574-ff2055e1f67d",
   "metadata": {},
   "outputs": [],
   "source": [
    "retail.drop('Discount', axis=1, inplace=True)"
   ]
  },
  {
   "cell_type": "code",
   "execution_count": null,
   "id": "53b09289-8ed0-42aa-a6de-dd24c49dae5b",
   "metadata": {},
   "outputs": [],
   "source": [
    "retail['Discount'] = retail['Sales_Revenue'] * 0.98\n",
    "retail.head(3)"
   ]
  },
  {
   "cell_type": "code",
   "execution_count": null,
   "id": "45d4c294-e62c-45f7-aa62-adc65be94a1f",
   "metadata": {},
   "outputs": [],
   "source": [
    "retail.head(3)"
   ]
  },
  {
   "cell_type": "code",
   "execution_count": null,
   "id": "bd7ee7ad-6dbe-4712-a32c-a7d2a2ba53ad",
   "metadata": {},
   "outputs": [],
   "source": [
    "def myfunc(y):\n",
    "    if y>=100:\n",
    "        return y*0.96\n",
    "    else:\n",
    "        return y"
   ]
  },
  {
   "cell_type": "code",
   "execution_count": null,
   "id": "3a1269f4-acf2-40ca-b652-9f7acc8e20b9",
   "metadata": {},
   "outputs": [],
   "source": [
    "retail['Discount'] = retail['Sales_Revenue'].apply(myfunc)"
   ]
  },
  {
   "cell_type": "code",
   "execution_count": 3,
   "id": "cc1d16ee-760b-4be2-96b3-896979a3a88e",
   "metadata": {},
   "outputs": [
    {
     "ename": "NameError",
     "evalue": "name 'retail' is not defined",
     "output_type": "error",
     "traceback": [
      "\u001b[1;31m---------------------------------------------------------------------------\u001b[0m",
      "\u001b[1;31mNameError\u001b[0m                                 Traceback (most recent call last)",
      "Cell \u001b[1;32mIn[3], line 1\u001b[0m\n\u001b[1;32m----> 1\u001b[0m \u001b[43mretail\u001b[49m\u001b[38;5;241m.\u001b[39mhead(\u001b[38;5;241m3\u001b[39m)\n",
      "\u001b[1;31mNameError\u001b[0m: name 'retail' is not defined"
     ]
    }
   ],
   "source": [
    "retail.head(3)"
   ]
  },
  {
   "cell_type": "code",
   "execution_count": null,
   "id": "eaa903db-a4fc-474f-a7f7-a145745256ae",
   "metadata": {},
   "outputs": [],
   "source": [
    " retail.loc[0:2, ['Sales_Revenue', 'Discount']]"
   ]
  },
  {
   "cell_type": "code",
   "execution_count": null,
   "id": "8d99b404-3669-4cd8-a54b-3d079e5ac428",
   "metadata": {},
   "outputs": [],
   "source": [
    "retail[['Product_Description', 'Product_Category','Region', \n",
    "        'Sales_Revenue']].groupby(['Region','Product_Description',\n",
    "                                   'Product_Category']).sum(numeric_only=True).sort_values(by=['Region','Product_Description'], ascending=False)"
   ]
  },
  {
   "cell_type": "code",
   "execution_count": null,
   "id": "c0add339-b2f7-416f-8a0e-2fb80ed22145",
   "metadata": {},
   "outputs": [],
   "source": [
    "retail.head(3)"
   ]
  },
  {
   "cell_type": "code",
   "execution_count": null,
   "id": "043458ce-abfa-4bb5-a6d7-004291910777",
   "metadata": {},
   "outputs": [],
   "source": [
    "retail['Product_Description'].value_counts()"
   ]
  },
  {
   "cell_type": "code",
   "execution_count": null,
   "id": "7499c6b3-4a4c-44ea-97e8-9fb84ead1ac3",
   "metadata": {},
   "outputs": [],
   "source": [
    "retail.head(3)"
   ]
  },
  {
   "cell_type": "code",
   "execution_count": 2,
   "id": "13cc63ad-04f3-4ead-af1a-41c124c8c593",
   "metadata": {},
   "outputs": [
    {
     "ename": "NameError",
     "evalue": "name 'retail' is not defined",
     "output_type": "error",
     "traceback": [
      "\u001b[1;31m---------------------------------------------------------------------------\u001b[0m",
      "\u001b[1;31mNameError\u001b[0m                                 Traceback (most recent call last)",
      "Cell \u001b[1;32mIn[2], line 1\u001b[0m\n\u001b[1;32m----> 1\u001b[0m \u001b[43mretail\u001b[49m\u001b[38;5;241m.\u001b[39mhead()\n",
      "\u001b[1;31mNameError\u001b[0m: name 'retail' is not defined"
     ]
    }
   ],
   "source": [
    "retail.head()\n"
   ]
  },
  {
   "cell_type": "code",
   "execution_count": null,
   "id": "c7c20974-c9a0-44fe-9d2a-ac41caa26e6a",
   "metadata": {},
   "outputs": [],
   "source": []
  }
 ],
 "metadata": {
  "kernelspec": {
   "display_name": "Python 3 (ipykernel)",
   "language": "python",
   "name": "python3"
  },
  "language_info": {
   "codemirror_mode": {
    "name": "ipython",
    "version": 3
   },
   "file_extension": ".py",
   "mimetype": "text/x-python",
   "name": "python",
   "nbconvert_exporter": "python",
   "pygments_lexer": "ipython3",
   "version": "3.11.4"
  }
 },
 "nbformat": 4,
 "nbformat_minor": 5
}
